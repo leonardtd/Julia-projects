{
 "cells": [
  {
   "cell_type": "code",
   "execution_count": 3,
   "id": "9fea274f",
   "metadata": {},
   "outputs": [],
   "source": [
    "using Flux"
   ]
  },
  {
   "cell_type": "markdown",
   "id": "edfcb210",
   "metadata": {},
   "source": [
    "## Gradients"
   ]
  },
  {
   "cell_type": "code",
   "execution_count": 4,
   "id": "2b783f60",
   "metadata": {},
   "outputs": [],
   "source": [
    "f(x, y) = 3x^2 + 2x + 1 + y^2;"
   ]
  },
  {
   "cell_type": "code",
   "execution_count": 5,
   "id": "919ed468",
   "metadata": {},
   "outputs": [],
   "source": [
    "df(x, y) = gradient(f, x, y);"
   ]
  },
  {
   "cell_type": "code",
   "execution_count": 6,
   "id": "30d8a519",
   "metadata": {},
   "outputs": [
    {
     "data": {
      "text/plain": [
       "(8.0, 4.0)"
      ]
     },
     "execution_count": 6,
     "metadata": {},
     "output_type": "execute_result"
    }
   ],
   "source": [
    "df(1,2)"
   ]
  },
  {
   "cell_type": "markdown",
   "id": "90bde579",
   "metadata": {},
   "source": [
    "---"
   ]
  },
  {
   "cell_type": "code",
   "execution_count": 7,
   "id": "bd83a093",
   "metadata": {},
   "outputs": [],
   "source": [
    "f(x,y) = (x .- y).^2;"
   ]
  },
  {
   "cell_type": "code",
   "execution_count": 8,
   "id": "9c8bd698",
   "metadata": {},
   "outputs": [
    {
     "data": {
      "text/plain": [
       "2-element Vector{Int64}:\n",
       " 4\n",
       " 4"
      ]
     },
     "execution_count": 8,
     "metadata": {},
     "output_type": "execute_result"
    }
   ],
   "source": [
    "f([1,1], [3,3])"
   ]
  },
  {
   "cell_type": "code",
   "execution_count": 9,
   "id": "1ee17ef6",
   "metadata": {},
   "outputs": [
    {
     "data": {
      "text/plain": [
       "2.0"
      ]
     },
     "execution_count": 9,
     "metadata": {},
     "output_type": "execute_result"
    }
   ],
   "source": [
    "gradient(f,1,2)[2]"
   ]
  },
  {
   "cell_type": "code",
   "execution_count": 10,
   "id": "fc85f607",
   "metadata": {},
   "outputs": [],
   "source": [
    "f(x,y) = sum((x .- y).^2);"
   ]
  },
  {
   "cell_type": "code",
   "execution_count": 11,
   "id": "b7621a19",
   "metadata": {},
   "outputs": [
    {
     "data": {
      "text/plain": [
       "8"
      ]
     },
     "execution_count": 11,
     "metadata": {},
     "output_type": "execute_result"
    }
   ],
   "source": [
    "f([1,1], [3,3])"
   ]
  },
  {
   "cell_type": "markdown",
   "id": "4739cd0b",
   "metadata": {},
   "source": [
    "---"
   ]
  },
  {
   "cell_type": "code",
   "execution_count": 12,
   "id": "08c68268",
   "metadata": {},
   "outputs": [
    {
     "data": {
      "text/plain": [
       "mse_loss (generic function with 1 method)"
      ]
     },
     "execution_count": 12,
     "metadata": {},
     "output_type": "execute_result"
    }
   ],
   "source": [
    "function mse_loss(✅, ✔)\n",
    "   return sum((✅ .- ✔).^2)/length(✔);\n",
    "end"
   ]
  },
  {
   "cell_type": "code",
   "execution_count": 13,
   "id": "c772f681",
   "metadata": {},
   "outputs": [
    {
     "data": {
      "text/plain": [
       "2.0"
      ]
     },
     "execution_count": 13,
     "metadata": {},
     "output_type": "execute_result"
    }
   ],
   "source": [
    "mse_loss([1,1], [1,3])"
   ]
  },
  {
   "cell_type": "markdown",
   "id": "32d77e99",
   "metadata": {},
   "source": [
    "---"
   ]
  },
  {
   "cell_type": "markdown",
   "id": "d98a5fc7",
   "metadata": {},
   "source": [
    "### Linear regression"
   ]
  },
  {
   "cell_type": "markdown",
   "id": "9993a492",
   "metadata": {},
   "source": [
    "#### model def"
   ]
  },
  {
   "cell_type": "code",
   "execution_count": 14,
   "id": "07da2b81",
   "metadata": {},
   "outputs": [],
   "source": [
    "W = randn(1, 1);\n",
    "b = randn(1, 1);"
   ]
  },
  {
   "cell_type": "code",
   "execution_count": 15,
   "id": "c932de80",
   "metadata": {},
   "outputs": [
    {
     "data": {
      "text/plain": [
       "forward (generic function with 1 method)"
      ]
     },
     "execution_count": 15,
     "metadata": {},
     "output_type": "execute_result"
    }
   ],
   "source": [
    "forward(x) = x*W .+ b"
   ]
  },
  {
   "cell_type": "code",
   "execution_count": 16,
   "id": "b3cbaf04",
   "metadata": {},
   "outputs": [],
   "source": [
    "input = randn(3, 1);"
   ]
  },
  {
   "cell_type": "code",
   "execution_count": 17,
   "id": "5f044da1",
   "metadata": {},
   "outputs": [
    {
     "data": {
      "text/plain": [
       "3×1 Matrix{Float64}:\n",
       " 0.6028245860377943\n",
       " 0.2496494822055595\n",
       " 0.246594628540741"
      ]
     },
     "execution_count": 17,
     "metadata": {},
     "output_type": "execute_result"
    }
   ],
   "source": [
    "forward(input)"
   ]
  },
  {
   "cell_type": "code",
   "execution_count": 18,
   "id": "59a66b52",
   "metadata": {},
   "outputs": [
    {
     "data": {
      "text/plain": [
       "mse_loss (generic function with 1 method)"
      ]
     },
     "execution_count": 18,
     "metadata": {},
     "output_type": "execute_result"
    }
   ],
   "source": [
    "function mse_loss(✅, ✔)\n",
    "   return sum((✅ .- ✔).^2)/length(✔);\n",
    "end"
   ]
  },
  {
   "cell_type": "code",
   "execution_count": 19,
   "id": "b05dfe2e",
   "metadata": {},
   "outputs": [],
   "source": [
    "# dummy data\n",
    "\n",
    "x = randn(1000, 1);\n",
    "y = randn(1000, 1);"
   ]
  },
  {
   "cell_type": "markdown",
   "id": "7c0d45ac",
   "metadata": {},
   "source": [
    "- Plot"
   ]
  },
  {
   "cell_type": "code",
   "execution_count": 20,
   "id": "2b968bcf",
   "metadata": {},
   "outputs": [],
   "source": [
    "### config\n",
    "EPOCHS = 200;\n",
    "lr = 0.01;"
   ]
  },
  {
   "cell_type": "code",
   "execution_count": 21,
   "id": "2afaebfe",
   "metadata": {},
   "outputs": [
    {
     "name": "stdout",
     "output_type": "stream",
     "text": [
      "1.0840178578927442\n",
      "1.0337117433006326\n",
      "1.0114882510136807\n",
      "1.0016639213704537\n",
      "0.9973178361758126\n",
      "0.9953938430995661\n",
      "0.9945414819490462\n",
      "0.9941635938728661\n",
      "0.9939959351146037\n",
      "0.9939214933775432\n"
     ]
    }
   ],
   "source": [
    "W = randn(1, 1);\n",
    "b = randn(1, 1);\n",
    "\n",
    "for i in 1:EPOCHS\n",
    "    gs = gradient(() -> mse_loss(y, forward(x)), Flux.params(W, b));\n",
    "    \n",
    "    #update params\n",
    "    W -= lr*gs[W];\n",
    "    b -= lr*gs[b];\n",
    "    \n",
    "    if i%20==0\n",
    "        println(mse_loss(y, forward(x)));\n",
    "    end\n",
    "end"
   ]
  }
 ],
 "metadata": {
  "kernelspec": {
   "display_name": "Julia 1.7.3",
   "language": "julia",
   "name": "julia-1.7"
  },
  "language_info": {
   "file_extension": ".jl",
   "mimetype": "application/julia",
   "name": "julia",
   "version": "1.7.3"
  }
 },
 "nbformat": 4,
 "nbformat_minor": 5
}
