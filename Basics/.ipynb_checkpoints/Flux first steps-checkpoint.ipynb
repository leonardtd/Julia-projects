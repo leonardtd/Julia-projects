{
 "cells": [
  {
   "cell_type": "code",
   "execution_count": null,
   "id": "1ea7a87a",
   "metadata": {},
   "outputs": [
    {
     "name": "stderr",
     "output_type": "stream",
     "text": [
      "┌ Info: Precompiling Plots [91a5bcdd-55d7-5caf-9e0b-520d859cae80]\n",
      "└ @ Base loading.jl:1423\n"
     ]
    }
   ],
   "source": [
    "using Flux\n",
    "using Plots"
   ]
  },
  {
   "cell_type": "markdown",
   "id": "b14b7abf",
   "metadata": {},
   "source": [
    "## Gradients"
   ]
  },
  {
   "cell_type": "code",
   "execution_count": 110,
   "id": "e8ed55f8",
   "metadata": {},
   "outputs": [],
   "source": [
    "f(x, y) = 3x^2 + 2x + 1 + y^2;"
   ]
  },
  {
   "cell_type": "code",
   "execution_count": 111,
   "id": "373209f6",
   "metadata": {},
   "outputs": [],
   "source": [
    "df(x, y) = gradient(f, x, y);"
   ]
  },
  {
   "cell_type": "code",
   "execution_count": 112,
   "id": "ffcd783b",
   "metadata": {},
   "outputs": [
    {
     "data": {
      "text/plain": [
       "(8.0, 4.0)"
      ]
     },
     "execution_count": 112,
     "metadata": {},
     "output_type": "execute_result"
    }
   ],
   "source": [
    "df(1,2)"
   ]
  },
  {
   "cell_type": "markdown",
   "id": "2732f0c2",
   "metadata": {},
   "source": [
    "---"
   ]
  },
  {
   "cell_type": "code",
   "execution_count": 144,
   "id": "b1cfbb19",
   "metadata": {},
   "outputs": [],
   "source": [
    "f(x,y) = (x .- y).^2;"
   ]
  },
  {
   "cell_type": "code",
   "execution_count": 145,
   "id": "7aa2680c",
   "metadata": {},
   "outputs": [
    {
     "data": {
      "text/plain": [
       "2-element Vector{Int64}:\n",
       " 4\n",
       " 4"
      ]
     },
     "execution_count": 145,
     "metadata": {},
     "output_type": "execute_result"
    }
   ],
   "source": [
    "f([1,1], [3,3])"
   ]
  },
  {
   "cell_type": "code",
   "execution_count": 151,
   "id": "7dbb7dc3",
   "metadata": {},
   "outputs": [
    {
     "data": {
      "text/plain": [
       "2.0"
      ]
     },
     "execution_count": 151,
     "metadata": {},
     "output_type": "execute_result"
    }
   ],
   "source": [
    "gradient(f,1,2)[2]"
   ]
  },
  {
   "cell_type": "code",
   "execution_count": 154,
   "id": "788d4104",
   "metadata": {},
   "outputs": [],
   "source": [
    "f(x,y) = sum((x .- y).^2);"
   ]
  },
  {
   "cell_type": "code",
   "execution_count": 155,
   "id": "a6948092",
   "metadata": {},
   "outputs": [
    {
     "data": {
      "text/plain": [
       "8"
      ]
     },
     "execution_count": 155,
     "metadata": {},
     "output_type": "execute_result"
    }
   ],
   "source": [
    "f([1,1], [3,3])"
   ]
  },
  {
   "cell_type": "markdown",
   "id": "579bf08c",
   "metadata": {},
   "source": [
    "---"
   ]
  },
  {
   "cell_type": "code",
   "execution_count": 187,
   "id": "225367bf",
   "metadata": {},
   "outputs": [
    {
     "data": {
      "text/plain": [
       "mse_loss (generic function with 1 method)"
      ]
     },
     "execution_count": 187,
     "metadata": {},
     "output_type": "execute_result"
    }
   ],
   "source": [
    "function mse_loss(✅, ✔)\n",
    "   return sum((✅ .- ✔).^2)/length(✔);\n",
    "end"
   ]
  },
  {
   "cell_type": "code",
   "execution_count": 188,
   "id": "19579b82",
   "metadata": {},
   "outputs": [
    {
     "data": {
      "text/plain": [
       "2.0"
      ]
     },
     "execution_count": 188,
     "metadata": {},
     "output_type": "execute_result"
    }
   ],
   "source": [
    "mse_loss([1,1], [1,3])"
   ]
  },
  {
   "cell_type": "markdown",
   "id": "673d571c",
   "metadata": {},
   "source": [
    "---"
   ]
  },
  {
   "cell_type": "markdown",
   "id": "e87b1974",
   "metadata": {},
   "source": [
    "### Linear regression"
   ]
  },
  {
   "cell_type": "markdown",
   "id": "f2c59216",
   "metadata": {},
   "source": [
    "#### model def"
   ]
  },
  {
   "cell_type": "code",
   "execution_count": 356,
   "id": "50ddc60c",
   "metadata": {},
   "outputs": [],
   "source": [
    "W = randn(1, 1);\n",
    "b = randn(1, 1);"
   ]
  },
  {
   "cell_type": "code",
   "execution_count": 357,
   "id": "fa2c079d",
   "metadata": {},
   "outputs": [
    {
     "data": {
      "text/plain": [
       "forward (generic function with 1 method)"
      ]
     },
     "execution_count": 357,
     "metadata": {},
     "output_type": "execute_result"
    }
   ],
   "source": [
    "forward(x) = x*W .+ b"
   ]
  },
  {
   "cell_type": "code",
   "execution_count": 358,
   "id": "b1093c88",
   "metadata": {},
   "outputs": [],
   "source": [
    "input = randn(3, 1);"
   ]
  },
  {
   "cell_type": "code",
   "execution_count": 359,
   "id": "80f20c97",
   "metadata": {},
   "outputs": [
    {
     "data": {
      "text/plain": [
       "3×1 Matrix{Float64}:\n",
       " 0.15926111227991557\n",
       " 0.12376546748766887\n",
       " 0.12165307321351101"
      ]
     },
     "execution_count": 359,
     "metadata": {},
     "output_type": "execute_result"
    }
   ],
   "source": [
    "forward(input)"
   ]
  },
  {
   "cell_type": "code",
   "execution_count": 360,
   "id": "210f7194",
   "metadata": {},
   "outputs": [
    {
     "data": {
      "text/plain": [
       "mse_loss (generic function with 1 method)"
      ]
     },
     "execution_count": 360,
     "metadata": {},
     "output_type": "execute_result"
    }
   ],
   "source": [
    "function mse_loss(✅, ✔)\n",
    "   return sum((✅ .- ✔).^2)/length(✔);\n",
    "end"
   ]
  },
  {
   "cell_type": "code",
   "execution_count": 361,
   "id": "f95822dd",
   "metadata": {},
   "outputs": [],
   "source": [
    "# dummy data\n",
    "\n",
    "x = randn(1000, 1);\n",
    "y = randn(1000, 1);"
   ]
  },
  {
   "cell_type": "markdown",
   "id": "1fb79a51",
   "metadata": {},
   "source": [
    "- Plot"
   ]
  },
  {
   "cell_type": "code",
   "execution_count": 362,
   "id": "88a0dff7",
   "metadata": {},
   "outputs": [],
   "source": [
    "### config\n",
    "EPOCHS = 200;\n",
    "lr = 0.01;"
   ]
  },
  {
   "cell_type": "code",
   "execution_count": 365,
   "id": "8576d7c9",
   "metadata": {},
   "outputs": [
    {
     "name": "stdout",
     "output_type": "stream",
     "text": [
      "2.893411473694109\n",
      "1.8238738851016811\n",
      "1.3461239171361261\n",
      "1.1327119812622555\n",
      "1.0373774618540867\n",
      "0.9947886908616\n",
      "0.9757624279035583\n",
      "0.9672623020948395\n",
      "0.963464689193437\n",
      "0.9617679717488329\n"
     ]
    }
   ],
   "source": [
    "W = randn(1, 1);\n",
    "b = randn(1, 1);\n",
    "\n",
    "for i in 1:EPOCHS\n",
    "    gs = gradient(() -> mse_loss(y, forward(x)), Flux.params(W, b));\n",
    "    \n",
    "    #update params\n",
    "    W -= lr*gs[W];\n",
    "    b -= lr*gs[b];\n",
    "    \n",
    "    if i%20==0\n",
    "        println(mse_loss(y, forward(x)));\n",
    "    end\n",
    "end"
   ]
  },
  {
   "cell_type": "code",
   "execution_count": null,
   "id": "3c326e05",
   "metadata": {},
   "outputs": [],
   "source": []
  },
  {
   "cell_type": "code",
   "execution_count": null,
   "id": "6f84a7fc",
   "metadata": {},
   "outputs": [],
   "source": []
  }
 ],
 "metadata": {
  "kernelspec": {
   "display_name": "Julia 1.7.3",
   "language": "julia",
   "name": "julia-1.7"
  },
  "language_info": {
   "file_extension": ".jl",
   "mimetype": "application/julia",
   "name": "julia",
   "version": "1.7.3"
  }
 },
 "nbformat": 4,
 "nbformat_minor": 5
}
